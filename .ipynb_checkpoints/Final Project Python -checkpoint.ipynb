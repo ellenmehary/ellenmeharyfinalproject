{
 "cells": [
  {
   "cell_type": "code",
   "execution_count": 18,
   "id": "8771e013",
   "metadata": {},
   "outputs": [],
   "source": [
    "import pandas as pd\n",
    "from nltk.tokenize import word_tokenize\n",
    "from nltk.stem import PorterStemmer\n",
    "\n",
    "# define a function to tokenize a value\n",
    "def tokenize_value(value):\n",
    "    if isinstance(value, str):\n",
    "        return word_tokenize(value)\n",
    "    else:\n",
    "        return []\n",
    "\n",
    "# define a function to stem a list of tokens\n",
    "def stem_tokens(tokens):\n",
    "    ps = PorterStemmer()\n",
    "    return [ps.stem(token) for token in tokens]\n",
    "\n",
    "# read the dataset into a pandas dataframe\n",
    "df = pd.read_csv('/Users/ellenmehary/ellenmeharyfinalproject/medicine_dataset.csv', low_memory=False)\n",
    "\n",
    "# apply the tokenize_value function to each cell of the dataframe\n",
    "df = df.applymap(tokenize_value)\n",
    "\n",
    "# apply the stem_tokens function to each cell of the dataframe\n",
    "df = df.applymap(stem_tokens)\n"
   ]
  },
  {
   "cell_type": "code",
   "execution_count": 22,
   "id": "235e992a",
   "metadata": {},
   "outputs": [],
   "source": [
    "# write the preprocessed dataframe to a new CSV file\n",
    "df.to_csv('/Users/ellenmehary/ellenmeharyfinalproject/medicine_dataset_NEW.csv', index=False)"
   ]
  },
  {
   "cell_type": "code",
   "execution_count": 5,
   "id": "72abae18",
   "metadata": {},
   "outputs": [],
   "source": [
    "from flask import Flask, render_template, request\n"
   ]
  },
  {
   "cell_type": "code",
   "execution_count": 6,
   "id": "ed684e78",
   "metadata": {},
   "outputs": [
    {
     "ename": "ModuleNotFoundError",
     "evalue": "No module named 'pysolr'",
     "output_type": "error",
     "traceback": [
      "\u001b[0;31m---------------------------------------------------------------------------\u001b[0m",
      "\u001b[0;31mModuleNotFoundError\u001b[0m                       Traceback (most recent call last)",
      "\u001b[0;32m/var/folders/ct/y3y7ls392pj98ssyrnmx3dzm0000gn/T/ipykernel_22803/3918292162.py\u001b[0m in \u001b[0;36m<module>\u001b[0;34m\u001b[0m\n\u001b[0;32m----> 1\u001b[0;31m \u001b[0;32mimport\u001b[0m \u001b[0mpysolr\u001b[0m\u001b[0;34m\u001b[0m\u001b[0;34m\u001b[0m\u001b[0m\n\u001b[0m",
      "\u001b[0;31mModuleNotFoundError\u001b[0m: No module named 'pysolr'"
     ]
    }
   ],
   "source": [
    "import pysolr"
   ]
  },
  {
   "cell_type": "code",
   "execution_count": 7,
   "id": "2827a0bc",
   "metadata": {},
   "outputs": [
    {
     "name": "stdout",
     "output_type": "stream",
     "text": [
      "Collecting pysolr\n",
      "  Downloading pysolr-3.9.0.tar.gz (55 kB)\n",
      "\u001b[K     |████████████████████████████████| 55 kB 3.0 MB/s eta 0:00:01\n",
      "\u001b[?25hRequirement already satisfied: requests>=2.9.1 in /Users/ellenmehary/opt/anaconda3/lib/python3.9/site-packages (from pysolr) (2.26.0)\n",
      "Requirement already satisfied: idna<4,>=2.5 in /Users/ellenmehary/opt/anaconda3/lib/python3.9/site-packages (from requests>=2.9.1->pysolr) (3.2)\n",
      "Requirement already satisfied: certifi>=2017.4.17 in /Users/ellenmehary/opt/anaconda3/lib/python3.9/site-packages (from requests>=2.9.1->pysolr) (2021.10.8)\n",
      "Requirement already satisfied: urllib3<1.27,>=1.21.1 in /Users/ellenmehary/opt/anaconda3/lib/python3.9/site-packages (from requests>=2.9.1->pysolr) (1.26.7)\n",
      "Requirement already satisfied: charset-normalizer~=2.0.0 in /Users/ellenmehary/opt/anaconda3/lib/python3.9/site-packages (from requests>=2.9.1->pysolr) (2.0.4)\n",
      "Building wheels for collected packages: pysolr\n",
      "  Building wheel for pysolr (setup.py) ... \u001b[?25ldone\n",
      "\u001b[?25h  Created wheel for pysolr: filename=pysolr-3.9.0-py2.py3-none-any.whl size=19689 sha256=b15588d63709a43723fddea9e68d8babd2cf65b5432fbc97d303151cb9494bc2\n",
      "  Stored in directory: /Users/ellenmehary/Library/Caches/pip/wheels/8f/e3/bb/f4c2a751045824a821ab25757e9762a66da88028d8f5f136ce\n",
      "Successfully built pysolr\n",
      "Installing collected packages: pysolr\n",
      "Successfully installed pysolr-3.9.0\n",
      "Note: you may need to restart the kernel to use updated packages.\n"
     ]
    }
   ],
   "source": [
    "pip install pysolr"
   ]
  },
  {
   "cell_type": "code",
   "execution_count": 1,
   "id": "e1afee26",
   "metadata": {},
   "outputs": [],
   "source": [
    "import pysolr"
   ]
  },
  {
   "cell_type": "code",
   "execution_count": 2,
   "id": "08474e6b",
   "metadata": {},
   "outputs": [
    {
     "ename": "NameError",
     "evalue": "name 'Flask' is not defined",
     "output_type": "error",
     "traceback": [
      "\u001b[0;31m---------------------------------------------------------------------------\u001b[0m",
      "\u001b[0;31mNameError\u001b[0m                                 Traceback (most recent call last)",
      "\u001b[0;32m/var/folders/ct/y3y7ls392pj98ssyrnmx3dzm0000gn/T/ipykernel_25401/1649707657.py\u001b[0m in \u001b[0;36m<module>\u001b[0;34m\u001b[0m\n\u001b[0;32m----> 1\u001b[0;31m \u001b[0mapp\u001b[0m \u001b[0;34m=\u001b[0m \u001b[0mFlask\u001b[0m\u001b[0;34m(\u001b[0m\u001b[0m__name__\u001b[0m\u001b[0;34m)\u001b[0m\u001b[0;34m\u001b[0m\u001b[0;34m\u001b[0m\u001b[0m\n\u001b[0m\u001b[1;32m      2\u001b[0m \u001b[0;34m\u001b[0m\u001b[0m\n\u001b[1;32m      3\u001b[0m \u001b[0;31m# Connect to Solr\u001b[0m\u001b[0;34m\u001b[0m\u001b[0;34m\u001b[0m\u001b[0m\n\u001b[1;32m      4\u001b[0m \u001b[0msolr\u001b[0m \u001b[0;34m=\u001b[0m \u001b[0mpysolr\u001b[0m\u001b[0;34m.\u001b[0m\u001b[0mSolr\u001b[0m\u001b[0;34m(\u001b[0m\u001b[0;34m'http://localhost:8983/solr/new_core'\u001b[0m\u001b[0;34m,\u001b[0m \u001b[0malways_commit\u001b[0m\u001b[0;34m=\u001b[0m\u001b[0;32mTrue\u001b[0m\u001b[0;34m)\u001b[0m\u001b[0;34m\u001b[0m\u001b[0;34m\u001b[0m\u001b[0m\n\u001b[1;32m      5\u001b[0m \u001b[0;34m\u001b[0m\u001b[0m\n",
      "\u001b[0;31mNameError\u001b[0m: name 'Flask' is not defined"
     ]
    }
   ],
   "source": [
    "app = Flask(__name__)\n",
    "\n",
    "# Connect to Solr\n",
    "solr = pysolr.Solr('http://localhost:8983/solr/new_core', always_commit=True)\n",
    "\n",
    "# Home page\n",
    "@app.route('/')\n",
    "def home():\n",
    "    return render_template('home.html')\n",
    "\n",
    "# Search page\n",
    "@app.route('/search', methods=['GET', 'POST'])\n",
    "def search():\n",
    "    query = request.form['query']\n",
    "    if query:\n",
    "        # Search Solr\n",
    "        results = solr.search(query)\n",
    "        return render_template('search.html', results=results)\n",
    "    else:\n",
    "        return render_template('search.html')\n",
    "\n",
    "if __name__ == '__main__':\n",
    "    app.run(debug=True)"
   ]
  },
  {
   "cell_type": "code",
   "execution_count": 3,
   "id": "a7783e3c",
   "metadata": {},
   "outputs": [
    {
     "name": "stdout",
     "output_type": "stream",
     "text": [
      "Requirement already satisfied: flask in /Users/ellenmehary/opt/anaconda3/lib/python3.9/site-packages (1.1.2)\n",
      "Requirement already satisfied: Jinja2>=2.10.1 in /Users/ellenmehary/opt/anaconda3/lib/python3.9/site-packages (from flask) (2.11.3)\n",
      "Requirement already satisfied: click>=5.1 in /Users/ellenmehary/opt/anaconda3/lib/python3.9/site-packages (from flask) (8.0.3)\n",
      "Requirement already satisfied: itsdangerous>=0.24 in /Users/ellenmehary/opt/anaconda3/lib/python3.9/site-packages (from flask) (2.0.1)\n",
      "Requirement already satisfied: Werkzeug>=0.15 in /Users/ellenmehary/opt/anaconda3/lib/python3.9/site-packages (from flask) (2.0.2)\n",
      "Requirement already satisfied: MarkupSafe>=0.23 in /Users/ellenmehary/opt/anaconda3/lib/python3.9/site-packages (from Jinja2>=2.10.1->flask) (1.1.1)\n",
      "Note: you may need to restart the kernel to use updated packages.\n"
     ]
    }
   ],
   "source": [
    "pip install flask"
   ]
  },
  {
   "cell_type": "code",
   "execution_count": null,
   "id": "0ef73e0a",
   "metadata": {},
   "outputs": [],
   "source": []
  }
 ],
 "metadata": {
  "kernelspec": {
   "display_name": "Python 3 (ipykernel)",
   "language": "python",
   "name": "python3"
  },
  "language_info": {
   "codemirror_mode": {
    "name": "ipython",
    "version": 3
   },
   "file_extension": ".py",
   "mimetype": "text/x-python",
   "name": "python",
   "nbconvert_exporter": "python",
   "pygments_lexer": "ipython3",
   "version": "3.9.7"
  }
 },
 "nbformat": 4,
 "nbformat_minor": 5
}

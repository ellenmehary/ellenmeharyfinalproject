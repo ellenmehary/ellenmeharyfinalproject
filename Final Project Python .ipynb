{
 "cells": [
  {
   "cell_type": "code",
   "execution_count": 3,
   "id": "3a0fcb78",
   "metadata": {},
   "outputs": [
    {
     "name": "stdout",
     "output_type": "stream",
     "text": [
      "Collecting pandas\n",
      "  Downloading pandas-2.0.1-cp310-cp310-macosx_11_0_arm64.whl (10.8 MB)\n",
      "\u001b[2K     \u001b[90m━━━━━━━━━━━━━━━━━━━━━━━━━━━━━━━━━━━━━━━━\u001b[0m \u001b[32m10.8/10.8 MB\u001b[0m \u001b[31m9.1 MB/s\u001b[0m eta \u001b[36m0:00:00\u001b[0m00:01\u001b[0m00:01\u001b[0m\n",
      "\u001b[?25hRequirement already satisfied: pytz>=2020.1 in /Users/ellenmehary/anaconda3/lib/python3.10/site-packages (from pandas) (2022.7)\n",
      "Collecting numpy>=1.21.0\n",
      "  Downloading numpy-1.24.3-cp310-cp310-macosx_11_0_arm64.whl (13.9 MB)\n",
      "\u001b[2K     \u001b[90m━━━━━━━━━━━━━━━━━━━━━━━━━━━━━━━━━━━━━━━━\u001b[0m \u001b[32m13.9/13.9 MB\u001b[0m \u001b[31m8.8 MB/s\u001b[0m eta \u001b[36m0:00:00\u001b[0m00:01\u001b[0m00:01\u001b[0m\n",
      "\u001b[?25hCollecting tzdata>=2022.1\n",
      "  Downloading tzdata-2023.3-py2.py3-none-any.whl (341 kB)\n",
      "\u001b[2K     \u001b[90m━━━━━━━━━━━━━━━━━━━━━━━━━━━━━━━━━━━━━━━\u001b[0m \u001b[32m341.8/341.8 kB\u001b[0m \u001b[31m8.3 MB/s\u001b[0m eta \u001b[36m0:00:00\u001b[0m00:01\u001b[0m\n",
      "\u001b[?25hRequirement already satisfied: python-dateutil>=2.8.2 in /Users/ellenmehary/anaconda3/lib/python3.10/site-packages (from pandas) (2.8.2)\n",
      "Requirement already satisfied: six>=1.5 in /Users/ellenmehary/anaconda3/lib/python3.10/site-packages (from python-dateutil>=2.8.2->pandas) (1.16.0)\n",
      "Installing collected packages: tzdata, numpy, pandas\n",
      "Successfully installed numpy-1.24.3 pandas-2.0.1 tzdata-2023.3\n",
      "Note: you may need to restart the kernel to use updated packages.\n"
     ]
    }
   ],
   "source": [
    "pip install pandas"
   ]
  },
  {
   "cell_type": "code",
   "execution_count": 1,
   "id": "c08cca34",
   "metadata": {},
   "outputs": [],
   "source": [
    "import pandas as pd\n"
   ]
  },
  {
   "cell_type": "code",
   "execution_count": 2,
   "id": "b798d85d",
   "metadata": {},
   "outputs": [
    {
     "name": "stdout",
     "output_type": "stream",
     "text": [
      "Requirement already satisfied: pysolr in /Users/ellenmehary/anaconda3/lib/python3.10/site-packages (3.9.0)\n",
      "Requirement already satisfied: requests>=2.9.1 in /Users/ellenmehary/anaconda3/lib/python3.10/site-packages (from pysolr) (2.29.0)\n",
      "Requirement already satisfied: idna<4,>=2.5 in /Users/ellenmehary/anaconda3/lib/python3.10/site-packages (from requests>=2.9.1->pysolr) (3.4)\n",
      "Requirement already satisfied: urllib3<1.27,>=1.21.1 in /Users/ellenmehary/anaconda3/lib/python3.10/site-packages (from requests>=2.9.1->pysolr) (1.26.15)\n",
      "Requirement already satisfied: charset-normalizer<4,>=2 in /Users/ellenmehary/anaconda3/lib/python3.10/site-packages (from requests>=2.9.1->pysolr) (2.0.4)\n",
      "Requirement already satisfied: certifi>=2017.4.17 in /Users/ellenmehary/anaconda3/lib/python3.10/site-packages (from requests>=2.9.1->pysolr) (2022.12.7)\n",
      "Note: you may need to restart the kernel to use updated packages.\n"
     ]
    }
   ],
   "source": [
    "pip install pysolr"
   ]
  },
  {
   "cell_type": "code",
   "execution_count": 3,
   "id": "6943c027",
   "metadata": {},
   "outputs": [
    {
     "name": "stdout",
     "output_type": "stream",
     "text": [
      "Requirement already satisfied: Flask in /Users/ellenmehary/anaconda3/lib/python3.10/site-packages (2.3.2)\n",
      "Requirement already satisfied: itsdangerous>=2.1.2 in /Users/ellenmehary/anaconda3/lib/python3.10/site-packages (from Flask) (2.1.2)\n",
      "Requirement already satisfied: blinker>=1.6.2 in /Users/ellenmehary/anaconda3/lib/python3.10/site-packages (from Flask) (1.6.2)\n",
      "Requirement already satisfied: Jinja2>=3.1.2 in /Users/ellenmehary/anaconda3/lib/python3.10/site-packages (from Flask) (3.1.2)\n",
      "Requirement already satisfied: click>=8.1.3 in /Users/ellenmehary/anaconda3/lib/python3.10/site-packages (from Flask) (8.1.3)\n",
      "Requirement already satisfied: Werkzeug>=2.3.3 in /Users/ellenmehary/anaconda3/lib/python3.10/site-packages (from Flask) (2.3.4)\n",
      "Requirement already satisfied: MarkupSafe>=2.0 in /Users/ellenmehary/anaconda3/lib/python3.10/site-packages (from Jinja2>=3.1.2->Flask) (2.1.1)\n",
      "Note: you may need to restart the kernel to use updated packages.\n"
     ]
    }
   ],
   "source": [
    "pip install Flask"
   ]
  },
  {
   "cell_type": "code",
   "execution_count": null,
   "id": "db6ccb94",
   "metadata": {},
   "outputs": [],
   "source": [
    "pip uninstall Flask\n",
    "\n"
   ]
  },
  {
   "cell_type": "code",
   "execution_count": null,
   "id": "4cca5bcc",
   "metadata": {},
   "outputs": [],
   "source": [
    "y"
   ]
  },
  {
   "cell_type": "code",
   "execution_count": null,
   "id": "45b53308",
   "metadata": {},
   "outputs": [],
   "source": []
  },
  {
   "cell_type": "code",
   "execution_count": null,
   "id": "eccd6cc9",
   "metadata": {},
   "outputs": [],
   "source": []
  },
  {
   "cell_type": "code",
   "execution_count": null,
   "id": "68ac94d1",
   "metadata": {},
   "outputs": [],
   "source": []
  },
  {
   "cell_type": "code",
   "execution_count": null,
   "id": "d03743dc",
   "metadata": {},
   "outputs": [],
   "source": []
  },
  {
   "cell_type": "code",
   "execution_count": null,
   "id": "36f99e2b",
   "metadata": {},
   "outputs": [],
   "source": []
  },
  {
   "cell_type": "code",
   "execution_count": null,
   "id": "34d1044e",
   "metadata": {},
   "outputs": [],
   "source": []
  },
  {
   "cell_type": "code",
   "execution_count": null,
   "id": "eb43e55a",
   "metadata": {},
   "outputs": [],
   "source": []
  }
 ],
 "metadata": {
  "kernelspec": {
   "display_name": "Python 3 (ipykernel)",
   "language": "python",
   "name": "python3"
  },
  "language_info": {
   "codemirror_mode": {
    "name": "ipython",
    "version": 3
   },
   "file_extension": ".py",
   "mimetype": "text/x-python",
   "name": "python",
   "nbconvert_exporter": "python",
   "pygments_lexer": "ipython3",
   "version": "3.9.6"
  }
 },
 "nbformat": 4,
 "nbformat_minor": 5
}
